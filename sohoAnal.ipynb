{
 "cells": [
  {
   "cell_type": "code",
   "execution_count": 1,
   "metadata": {},
   "outputs": [],
   "source": [
    "import pandas as pd\n",
    "import requests\n",
    "import os\n",
    "from requests.adapters import HTTPAdapter\n",
    "from urllib3.util.retry import Retry\n",
    "\n",
    "path = '.'"
   ]
  },
  {
   "cell_type": "code",
   "execution_count": 2,
   "metadata": {},
   "outputs": [],
   "source": [
    "baseURL = 'apis.data.go.kr/1160100/service'\n",
    "getApis = {\n",
    "   'GetSBProfileInfoService' : ['getOtlInfo']#, 'getCsdoStatus'],\n",
    "   # 'GetSBBankingInfoService' : ['getGrnBalInfo', 'getDpstLoanInfo'],\n",
    "   # 'GetSBFinanceInfoService' : ['getFnafInfo', 'getSlsInfo', 'getDbtInfo']\n",
    "}"
   ]
  },
  {
   "cell_type": "code",
   "execution_count": null,
   "metadata": {},
   "outputs": [],
   "source": [
    "# baseURL = 'apis.data.go.kr/1160100/service/GetSBProfileInfoService' /"
   ]
  },
  {
   "cell_type": "code",
   "execution_count": null,
   "metadata": {},
   "outputs": [],
   "source": [
    "def getApiData(apis: dict | list, baseURL: str = baseURL, scope: int = 100, path: str = path):\n",
    "    try:\n",
    "        # 환경 변수에서 키를 가져오기\n",
    "        key = os.getenv('KEY_DECODE')  # Get your API key\n",
    "        if not key:\n",
    "            raise KeyError(\"API key not found in environment variables.\")\n",
    "        \n",
    "        if isinstance(apis, dict):\n",
    "            base = list(apis.keys())  # Base URLs\n",
    "            api = list(apis.values())  # API endpoints\n",
    "        else:\n",
    "            base = [baseURL.split('/')[-1]]\n",
    "            api = apis\n",
    "            baseURL = baseURL.replace(f'/{base[0]}', '')  # Adjust base URL for list input\n",
    "\n",
    "        # Setup a session with retries and increased connection pool\n",
    "        session = requests.Session()\n",
    "        \n",
    "        # Configure retries for the session\n",
    "        retries = Retry(total=3, backoff_factor=1, status_forcelist=[500, 502, 503, 504])\n",
    "        session.mount('http://', HTTPAdapter(max_retries=retries))\n",
    "\n",
    "        for base_item, api_list in zip(base, api):\n",
    "            for api_item in api_list:\n",
    "                for page in range(scope):\n",
    "                    params = {\n",
    "                        \"serviceKey\": key,\n",
    "                        \"pageNo\": page + 1,\n",
    "                        \"numOfRows\": 10000,  # or your desired value\n",
    "                        \"resultType\": \"json\"\n",
    "                    }\n",
    "\n",
    "                    # Make the request using the session\n",
    "                    url = f\"http://{baseURL}/{base_item}/{api_item}\"\n",
    "                    response = session.get(url, params=params)\n",
    "                    response.raise_for_status()  # Raise an error for bad status codes\n",
    "\n",
    "                    try:\n",
    "                        # Process the response (parse JSON)\n",
    "                        response_data = response.json().get('response', {}).get('body', {}).get('items', {}).get('item', [])\n",
    "                    except ValueError as e:\n",
    "                        raise ValueError(f\"Invalid JSON response from {url}: {e}\")\n",
    "\n",
    "                    if response_data:\n",
    "                        try:\n",
    "                            df = pd.DataFrame(response_data)\n",
    "                        except ValueError as e:\n",
    "                            raise ValueError(f\"Error converting response data to DataFrame: {e}\")\n",
    "                        \n",
    "                        save_path = f'{path}/dataset/{base_item}/{api_item}'\n",
    "                        try:\n",
    "                            os.makedirs(save_path, exist_ok=True)\n",
    "                        except OSError as e:\n",
    "                            raise OSError(f\"Failed to create directory {save_path}: {e}\")\n",
    "                        \n",
    "                        file_name = f'{save_path}/{api_item}_{str(page).zfill(3)}.csv'\n",
    "                        try:\n",
    "                            df.to_csv(file_name, index=False)\n",
    "                        except PermissionError as e:\n",
    "                            raise PermissionError(f\"Permission denied while saving file {file_name}: {e}\")\n",
    "                    \n",
    "    except requests.exceptions.RequestException as e:\n",
    "        raise Exception(f\"HTTP request failed: {e}\")\n",
    "    except KeyError as e:\n",
    "        raise Exception(f\"Missing environment variable: {e}\")\n",
    "    except OSError as e:\n",
    "        raise Exception(f\"File system error: {e}\")\n",
    "    except ValueError as e:\n",
    "        raise Exception(f\"Data processing error: {e}\")\n",
    "    except Exception as e:\n",
    "        raise Exception(f\"An unexpected error occurred: {e}\")"
   ]
  },
  {
   "cell_type": "code",
   "execution_count": 5,
   "metadata": {},
   "outputs": [
    {
     "data": {
      "text/plain": [
       "'.'"
      ]
     },
     "execution_count": 5,
     "metadata": {},
     "output_type": "execute_result"
    }
   ],
   "source": [
    "path"
   ]
  },
  {
   "cell_type": "code",
   "execution_count": 6,
   "metadata": {},
   "outputs": [],
   "source": [
    "getApiData(getApis, scope=112)"
   ]
  },
  {
   "cell_type": "code",
   "execution_count": 7,
   "metadata": {},
   "outputs": [],
   "source": [
    "path_d = []\n",
    "for key in getApis:\n",
    "    values = getApis.get(key)\n",
    "    for value in values:\n",
    "        path_d.append(f'{key}/{value}')"
   ]
  },
  {
   "cell_type": "code",
   "execution_count": 8,
   "metadata": {},
   "outputs": [
    {
     "data": {
      "text/plain": [
       "['GetSBProfileInfoService/getOtlInfo']"
      ]
     },
     "execution_count": 8,
     "metadata": {},
     "output_type": "execute_result"
    }
   ],
   "source": [
    "path_d"
   ]
  },
  {
   "cell_type": "code",
   "execution_count": null,
   "metadata": {},
   "outputs": [],
   "source": [
    "for path in path_d:\n",
    "    # DataFrame을 모을 리스트\n",
    "    all_data = []\n",
    "    path = f'./dataset/{path}'\n",
    "    \n",
    "    # 디렉토리 내 CSV 파일들 목록 가져오기\n",
    "    try:\n",
    "        file_list = sorted([f for f in os.listdir(path) if f.endswith('.csv')])\n",
    "    except Exception as e:\n",
    "        raise Exception(f\"디렉토리 {path}에 문제가 발생했습니다: {e}\")\n",
    "    \n",
    "    # 각 파일에 대해 반복\n",
    "    for fileNo, filename in enumerate(file_list):\n",
    "        try:\n",
    "            # 파일 경로 설정\n",
    "            file_path = os.path.join(path, filename)\n",
    "            tmp = pd.read_csv(file_path)\n",
    "            all_data.append(tmp)  # 파일을 리스트에 추가\n",
    "        except Exception as e:\n",
    "            raise Exception(f\"파일 {filename}을 읽는 도중 오류 발생: {e}\")\n",
    "\n",
    "    # 모든 DataFrame을 하나로 합침\n",
    "    if all_data:\n",
    "        try:\n",
    "            df = pd.concat(all_data, ignore_index=True)\n",
    "            df.to_csv(f\"{path}/all.csv\", index=False)\n",
    "        except Exception as e:\n",
    "            raise Exception(f\"모든 데이터를 합치는 도중 오류 발생: {e}\")\n",
    "    else:\n",
    "        raise Exception(f\"디렉토리 {path}에는 유효한 CSV 파일이 없습니다.\")"
   ]
  }
 ],
 "metadata": {
  "kernelspec": {
   "display_name": "Python (GPU)",
   "language": "python",
   "name": "gpu_env"
  },
  "language_info": {
   "codemirror_mode": {
    "name": "ipython",
    "version": 3
   },
   "file_extension": ".py",
   "mimetype": "text/x-python",
   "name": "python",
   "nbconvert_exporter": "python",
   "pygments_lexer": "ipython3",
   "version": "3.13.1"
  }
 },
 "nbformat": 4,
 "nbformat_minor": 2
}
